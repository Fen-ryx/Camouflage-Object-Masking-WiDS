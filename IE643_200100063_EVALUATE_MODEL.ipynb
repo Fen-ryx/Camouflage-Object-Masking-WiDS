{
 "cells": [
  {
   "cell_type": "code",
   "execution_count": null,
   "id": "b8286a5c",
   "metadata": {},
   "outputs": [],
   "source": [
    "import os\n",
    "import random\n",
    "from tqdm import tqdm\n",
    "os.environ[\"KMP_DUPLICATE_LIB_OK\"]=\"TRUE\"\n",
    "\n",
    "import cv2 as cv\n",
    "import numpy as np\n",
    "\n",
    "%matplotlib inline\n",
    "import matplotlib.pyplot as plt\n",
    "import matplotlib.image as mpimg \n",
    "from matplotlib.pyplot import imshow\n",
    "\n",
    "import torch\n",
    "import torch.nn as nn\n",
    "import torch.nn.functional as F\n",
    "import torchvision.models as models\n",
    "from torchsummary import summary\n",
    "import segmentation_models_pytorch as smp"
   ]
  },
  {
   "cell_type": "code",
   "execution_count": null,
   "id": "afd2e836",
   "metadata": {},
   "outputs": [],
   "source": [
    "if torch.cuda.is_available():\n",
    "    dev = 'cuda:0'\n",
    "else:\n",
    "    dev = 'cpu'\n",
    "device = torch.device(dev)"
   ]
  },
  {
   "cell_type": "code",
   "execution_count": null,
   "id": "a117a7e6",
   "metadata": {},
   "outputs": [],
   "source": [
    "model = smp.FPN(in_channels=1)\n",
    "model.load_state_dict(torch.load('''Enter Model Path Here'''))\n",
    "model.to(device)"
   ]
  },
  {
   "cell_type": "code",
   "execution_count": null,
   "id": "efaf145b",
   "metadata": {},
   "outputs": [],
   "source": [
    "class dataUpload:\n",
    "    \n",
    "    def __init__(self, images_path, masks_path):\n",
    "        self.image_path = images_path\n",
    "        self.mask_path = masks_path\n",
    "        self.images_array, self.masks_array = [], []\n",
    "    \n",
    "    def loadData(self):\n",
    "        for i in tqdm(os.listdir(self.image_path)):\n",
    "            image = os.path.join(self.image_path, i)\n",
    "            image = cv.imread(image)\n",
    "            \n",
    "            self.images_array.append(image)\n",
    "        \n",
    "        for m in tqdm(os.listdir(self.mask_path)):\n",
    "            mask = os.path.join(self.mask_path, m)\n",
    "            mask = cv.imread(mask)\n",
    "            \n",
    "            self.masks_array.append(mask)\n",
    "        \n",
    "        return self.images_array, self.masks_array"
   ]
  },
  {
   "cell_type": "code",
   "execution_count": null,
   "id": "6de8ac79",
   "metadata": {},
   "outputs": [],
   "source": [
    "def resizeImages(images, masks, height, width):\n",
    "    \n",
    "    for i in range(len(images)):\n",
    "        images[i] = cv.resize(images[i], (width, height))\n",
    "        masks[i] = cv.resize(masks[i], (width, height))\n",
    "    \n",
    "    return images, masks\n",
    "\n",
    "def toGrayScale(images, masks):\n",
    "    gray_images, gray_masks = [], []\n",
    "    for image, mask in zip(images, masks):\n",
    "        gray_images.append(cv.cvtColor(image, cv.COLOR_BGR2GRAY))\n",
    "        gray_masks.append(cv.cvtColor(mask, cv.COLOR_BGR2GRAY))\n",
    "    \n",
    "    return gray_images, gray_masks"
   ]
  },
  {
   "cell_type": "code",
   "execution_count": null,
   "id": "dd9452d1",
   "metadata": {},
   "outputs": [],
   "source": [
    "def preProcess(images, masks):\n",
    "    images, masks = resizeImages(images, masks, 64, 64)\n",
    "    images, masks = toGrayScale(images, masks)\n",
    "    images, masks = np.array(images) / 255.0, np.array(masks) / 255.0\n",
    "    return images, masks"
   ]
  },
  {
   "cell_type": "code",
   "execution_count": null,
   "id": "37f7a95d",
   "metadata": {},
   "outputs": [],
   "source": [
    "def dataGenerator(images, masks, batch_size, shuffle=True, train=True):\n",
    "    X, Y = images, masks\n",
    "    \n",
    "    index = 0\n",
    "    num_images = len(images)\n",
    "    indices = [*range(num_images)]\n",
    "    if shuffle:\n",
    "        random.shuffle(indices)\n",
    "    \n",
    "    while True:\n",
    "        if index >= num_images:\n",
    "            index = 0\n",
    "            if shuffle:\n",
    "                random.shuffle(indices)\n",
    "        index += 1\n",
    "        \n",
    "        for i in range(0, num_images, batch_size):\n",
    "            try:\n",
    "                x = X[indices[i:i+batch_size]]\n",
    "                y = Y[indices[i:i+batch_size]]\n",
    "            except:\n",
    "                x = X[indices[i:]]\n",
    "                y = Y[indices[i:]]\n",
    "            \n",
    "            if len(x) != batch_size or i == num_images - batch_size:\n",
    "                yield x, y, 1\n",
    "            else:\n",
    "                yield x, y, 0"
   ]
  },
  {
   "cell_type": "code",
   "execution_count": null,
   "id": "28caf858",
   "metadata": {},
   "outputs": [],
   "source": [
    "def diceScore(Y_output, Y):\n",
    "    gamma = 1\n",
    "    batch_size = Y_output.size(dim=0)\n",
    "    \n",
    "    model_outputs = Y_output.reshape(batch_size, -1).float()\n",
    "    original_outputs = Y.reshape(batch_size, -1).float()\n",
    "    intersection = (model_outputs * original_outputs).sum().float()\n",
    "\n",
    "    return batch_size * (2 * intersection + gamma) / (model_outputs.sum() + original_outputs.sum() + gamma)"
   ]
  },
  {
   "cell_type": "code",
   "execution_count": null,
   "id": "7e2ab80e",
   "metadata": {},
   "outputs": [],
   "source": [
    "def valLoop(val_generator, height, width):\n",
    "    Y_pred = []\n",
    "    num_images, dice_score = 0, 0\n",
    "    \n",
    "    with torch.no_grad():\n",
    "        while True:\n",
    "            X, Y, count = next(val_generator)\n",
    "            \n",
    "            X = torch.tensor(X)\n",
    "            X = torch.reshape(X, (-1, 1, height, width)).float().to(device)\n",
    "            Y = torch.tensor(Y)\n",
    "            Y = torch.reshape(Y, (-1, 1, height, width)).to(device)\n",
    "            \n",
    "            Y_output = model(X)\n",
    "            num_images += X.size(dim=0)\n",
    "            \n",
    "            Y_output = torch.reshape(Y_output, (-1, height, width, 1))\n",
    "            sigmoid = nn.Sigmoid()\n",
    "            Y_output = sigmoid(Y_output)\n",
    "            \n",
    "            dice_score += diceScore(Y_output, Y)\n",
    "            \n",
    "            Y_pred += list(np.reshape(Y_output.detach().cpu().numpy(), (-1, height, width)))\n",
    "            \n",
    "            if count == 1:\n",
    "                break\n",
    "    \n",
    "    return dice_score / num_images, Y_pred"
   ]
  },
  {
   "cell_type": "code",
   "execution_count": null,
   "id": "b92dfa0d",
   "metadata": {},
   "outputs": [],
   "source": [
    "def displayOutputs(val_images, val_masks, Y_pred, number, time):\n",
    "    num_images = len(val_images)\n",
    "    \n",
    "    for index in range(number):\n",
    "        cv.imshow('Original Grayscale Image', cv.resize(val_images[index], (256, 256)))\n",
    "        \n",
    "        cv.imshow('Original Mask', cv.resize(val_masks[index], (256, 256)))\n",
    "        cv.moveWindow('Original Mask', 300, 0)\n",
    "        \n",
    "        cv.imshow('Predicted Mask', cv.resize((Y_pred[index] * 255).astype(np.uint8), (256, 256)))\n",
    "        cv.moveWindow('Predicted Mask', 300, 300)\n",
    "        cv.waitKey(int(time * 1000))\n",
    "    \n",
    "    cv.destroyAllWindows()"
   ]
  },
  {
   "cell_type": "code",
   "execution_count": null,
   "id": "e3562d9f",
   "metadata": {},
   "outputs": [],
   "source": [
    "def takeInputs(images_path, masks_path, view=False, number=10, time=2):\n",
    "    upload = dataUpload(images_path, masks_path)\n",
    "    images, masks = upload.loadData()\n",
    "    images, masks = preProcess(images, masks)\n",
    "    \n",
    "    val_generator = dataGenerator(images, masks, batch_size=8, shuffle=False, train=False)\n",
    "    average_dice_score, Y_pred = valLoop(val_generator, height=64, width=64)\n",
    "    \n",
    "    print(f'Average Dice Score over Test Set: {average_dice_score: .6f}')\n",
    "    \n",
    "    if view:\n",
    "        displayOutputs(images, masks, Y_pred, number, time)"
   ]
  },
  {
   "cell_type": "code",
   "execution_count": null,
   "id": "4ae1f8e6",
   "metadata": {},
   "outputs": [],
   "source": [
    "images_path = input('Path to the Folder Containing Test Images: ')\n",
    "masks_path = input('Path to the Folder Containing Testing Ground Truth Masks: ')\n",
    "view = input('Would you like to view the outputs? [y/n]: ')\n",
    "\n",
    "if view == 'y':\n",
    "    number = int(input('How many images would you like to view? '))\n",
    "    time = float(input('How long would you like each image to be displayed (in seconds)? '))"
   ]
  },
  {
   "cell_type": "code",
   "execution_count": null,
   "id": "ddc20b02",
   "metadata": {},
   "outputs": [],
   "source": [
    "takeInputs(images_path, masks_path, view, number, time)"
   ]
  },
  {
   "cell_type": "code",
   "execution_count": null,
   "id": "d86cb2cc",
   "metadata": {},
   "outputs": [],
   "source": []
  }
 ],
 "metadata": {
  "kernelspec": {
   "display_name": "Python 3 (ipykernel)",
   "language": "python",
   "name": "python3"
  },
  "language_info": {
   "codemirror_mode": {
    "name": "ipython",
    "version": 3
   },
   "file_extension": ".py",
   "mimetype": "text/x-python",
   "name": "python",
   "nbconvert_exporter": "python",
   "pygments_lexer": "ipython3",
   "version": "3.9.12"
  }
 },
 "nbformat": 4,
 "nbformat_minor": 5
}
